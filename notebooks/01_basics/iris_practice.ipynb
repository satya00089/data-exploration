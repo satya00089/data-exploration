{
 "cells": [
  {
   "cell_type": "markdown",
   "id": "1037a78d",
   "metadata": {},
   "source": [
    "# Iris Dataset Practice: Interactive Pandas Tutorial\n",
    "\n",
    "This notebook will guide you through pandas basics using the famous Iris dataset. \n",
    "\n",
    "**Instructions:**\n",
    "1. Read each question carefully\n",
    "2. Try to write your own solution in the \"Your Code\" cell\n",
    "3. Run the \"Solution\" cell to see the answer\n",
    "4. Compare your solution with the provided one\n",
    "\n",
    "Let's get started!"
   ]
  },
  {
   "cell_type": "code",
   "execution_count": null,
   "id": "d26d2d85",
   "metadata": {},
   "outputs": [],
   "source": [
    "# Import required libraries\n",
    "import pandas as pd\n",
    "\n",
    "# Load the dataset\n",
    "df = pd.read_csv('./data/Iris/Iris.csv')\n",
    "\n",
    "# Display first few rows\n",
    "df.head()"
   ]
  },
  {
   "cell_type": "markdown",
   "id": "8049860c",
   "metadata": {},
   "source": [
    "## Question 1: Basic Dataset Information\n",
    "\n",
    "**Task:** Get the basic information about the dataset including:\n",
    "- Number of rows and columns\n",
    "- Column names\n",
    "- Data types\n",
    "- Memory usage"
   ]
  },
  {
   "cell_type": "code",
   "execution_count": null,
   "id": "f17f986c",
   "metadata": {},
   "outputs": [],
   "source": [
    "# Your code here"
   ]
  },
  {
   "cell_type": "markdown",
   "id": "6067167b",
   "metadata": {},
   "source": [
    "## Question 2: Descriptive Statistics\n",
    "\n",
    "**Task:** Get descriptive statistics for all numerical columns including:\n",
    "- Count\n",
    "- Mean\n",
    "- Standard deviation\n",
    "- Min/max values\n",
    "- Quartiles"
   ]
  },
  {
   "cell_type": "code",
   "execution_count": null,
   "id": "7a0fb6ae",
   "metadata": {},
   "outputs": [],
   "source": [
    "# Your code here"
   ]
  },
  {
   "cell_type": "markdown",
   "id": "17b34f9b",
   "metadata": {},
   "source": [
    "## Question 3: Check for Missing Values\n",
    "\n",
    "**Task:** Check if there are any missing values in the dataset."
   ]
  },
  {
   "cell_type": "code",
   "execution_count": null,
   "id": "98311acb",
   "metadata": {},
   "outputs": [],
   "source": [
    "# Your code here"
   ]
  },
  {
   "cell_type": "markdown",
   "id": "d4401aaa",
   "metadata": {},
   "source": [
    "## Question 4: Unique Species\n",
    "\n",
    "**Task:** Find all unique species in the dataset and count how many of each species there are."
   ]
  },
  {
   "cell_type": "code",
   "execution_count": null,
   "id": "0afbf8e8",
   "metadata": {},
   "outputs": [],
   "source": [
    "# Your code here"
   ]
  },
  {
   "cell_type": "markdown",
   "id": "7c625398",
   "metadata": {},
   "source": [
    "## Question 5: Filtering Data\n",
    "\n",
    "**Task:** Filter the dataset to show only:\n",
    "- Setosa species with sepal length greater than 5.0\n",
    "- Versicolor species with petal width less than 1.5"
   ]
  },
  {
   "cell_type": "code",
   "execution_count": null,
   "id": "a120dcfb",
   "metadata": {},
   "outputs": [],
   "source": [
    "# Your code here"
   ]
  },
  {
   "cell_type": "markdown",
   "id": "3b18a5a3",
   "metadata": {},
   "source": [
    "## Question 6: Grouping and Aggregation\n",
    "\n",
    "**Task:** Calculate the following for each species:\n",
    "- Average sepal length\n",
    "- Maximum petal width\n",
    "- Minimum sepal width"
   ]
  },
  {
   "cell_type": "code",
   "execution_count": null,
   "id": "8abbe07a",
   "metadata": {},
   "outputs": [],
   "source": [
    "# Your code here"
   ]
  },
  {
   "cell_type": "markdown",
   "id": "7ee0fad8",
   "metadata": {},
   "source": [
    "## Question 7: Adding New Columns\n",
    "\n",
    "**Task:** Create a new column called 'petal_area' that calculates the area of the petal (length × width)."
   ]
  },
  {
   "cell_type": "code",
   "execution_count": null,
   "id": "cb6bdc22",
   "metadata": {},
   "outputs": [],
   "source": [
    "# Your code here"
   ]
  },
  {
   "cell_type": "markdown",
   "id": "37f4bee9",
   "metadata": {},
   "source": [
    "## Question 8: Sorting Data\n",
    "\n",
    "**Task:** Sort the dataset by:\n",
    "1. Sepal length in descending order\n",
    "2. Petal width in ascending order (for same sepal length values)"
   ]
  },
  {
   "cell_type": "code",
   "execution_count": null,
   "id": "edc46a64",
   "metadata": {},
   "outputs": [],
   "source": [
    "# Your code here"
   ]
  },
  {
   "cell_type": "markdown",
   "id": "3f212cee",
   "metadata": {},
   "source": [
    "## Congratulations! 🎉\n",
    "\n",
    "You've completed the basic pandas exercises with the Iris dataset!\n",
    "\n",
    "**What you've practiced:**\n",
    "- Loading and inspecting datasets\n",
    "- Handling missing values\n",
    "- Filtering and selecting data\n",
    "- Grouping and aggregation\n",
    "- Adding new columns\n",
    "- Sorting data\n",
    "\n",
    "**Next Steps:**\n",
    "1. Try these operations on a different dataset\n",
    "2. Explore more advanced pandas operations\n",
    "3. Practice with the Titanic dataset (next in our series)\n",
    "\n",
    "Keep practicing and happy coding! 🐼"
   ]
  }
 ],
 "metadata": {
  "kernelspec": {
   "display_name": "Python 3",
   "language": "python",
   "name": "python3"
  },
  "language_info": {
   "name": "python",
   "version": "3.11.0"
  }
 },
 "nbformat": 4,
 "nbformat_minor": 5
}
